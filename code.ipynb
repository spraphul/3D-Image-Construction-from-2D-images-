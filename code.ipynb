{
 "cells": [
  {
   "cell_type": "code",
   "execution_count": 23,
   "metadata": {
    "collapsed": true
   },
   "outputs": [],
   "source": [
    "import cv2\n",
    "import numpy as np \n",
    "import glob\n",
    "from tqdm import tqdm\n",
    "import PIL.ExifTags\n",
    "import PIL.Image\n",
    "#============================================\n",
    "# Camera calibration\n",
    "#============================================\n",
    "#Define size of chessboard target.\n",
    "chessboard_size = (7,5)"
   ]
  },
  {
   "cell_type": "code",
   "execution_count": 24,
   "metadata": {
    "collapsed": true
   },
   "outputs": [],
   "source": [
    "from matplotlib import pyplot as plt"
   ]
  },
  {
   "cell_type": "markdown",
   "metadata": {},
   "source": [
    "## Camera Calibration"
   ]
  },
  {
   "cell_type": "code",
   "execution_count": 3,
   "metadata": {
    "collapsed": true
   },
   "outputs": [],
   "source": [
    "#Define arrays to save detected points\n",
    "obj_points = [] #3D points in real world space \n",
    "img_points = [] #3D points in image plane\n",
    "#Prepare grid and points to display\n",
    "objp = np.zeros((np.prod(chessboard_size),3),dtype=np.float32)\n",
    "objp[:,:2] = np.mgrid[0:chessboard_size[0], 0:chessboard_size[1]].T.reshape(-1,2)"
   ]
  },
  {
   "cell_type": "code",
   "execution_count": 4,
   "metadata": {
    "collapsed": true
   },
   "outputs": [],
   "source": [
    "calibration_paths = glob.glob('Calibration_images/*')"
   ]
  },
  {
   "cell_type": "code",
   "execution_count": null,
   "metadata": {},
   "outputs": [],
   "source": [
    "#read images\n",
    "calibration_paths = glob.glob('Calibration_images/*')\n",
    "#Iterate over images to find intrinsic matrix\n",
    "for image_path in tqdm(calibration_paths):\n",
    "    image = cv2.imread(image_path)\n",
    "    image = image.astype('uint8')\n",
    "    gray_image = cv2.cvtColor(image, cv2.COLOR_BGR2GRAY)\n",
    "    print(\"Image loaded, Analyzing...\")\n",
    "    ret,corners = cv2.findChessboardCorners(gray_image, chessboard_size, None)\n",
    "    if ret == True:\n",
    "        print(\"Chessboard detected!\")\n",
    "        print(image_path)\n",
    "      #define criteria for subpixel accuracy\n",
    "        criteria = (cv2.TERM_CRITERIA_EPS + cv2.TERM_CRITERIA_MAX_ITER, 30, 0.001)\n",
    "      #refine corner location (to subpixel accuracy) based on criteria.\n",
    "        cv2.cornerSubPix(gray_image, corners, (5,5), (-1,-1), criteria)\n",
    "        obj_points.append(objp)\n",
    "        img_points.append(corners)"
   ]
  },
  {
   "cell_type": "code",
   "execution_count": null,
   "metadata": {
    "collapsed": true
   },
   "outputs": [],
   "source": [
    "#Calibrate camera\n",
    "ret, K, dist, rvecs, tvecs = cv2.calibrateCamera(obj_points, img_points,gray_image.shape[::-1], None, None)\n",
    "#Save parameters into numpy file\n",
    "np.save(\"camera_params/ret\", ret)\n",
    "np.save(\"camera_params/K\", K)\n",
    "np.save(\"camera_params/dist\", dist)\n",
    "np.save(\"camera_params/rvecs\", rvecs)\n",
    "np.save(\"camera_params/tvecs\", tvecs)"
   ]
  },
  {
   "cell_type": "code",
   "execution_count": null,
   "metadata": {
    "collapsed": true
   },
   "outputs": [],
   "source": [
    "#Get exif data in order to get focal length. \n",
    "exif_img = PIL.Image.open('Calibration_images/IMG_20190414_224445.jpg')\n",
    "exif_data = {\n",
    "          PIL.ExifTags.TAGS[k]:v\n",
    "          for k, v in exif_img._getexif().items()\n",
    "          if k in PIL.ExifTags.TAGS\n",
    "}\n",
    "#Get focal length in tuple form\n",
    "focal_length_exif = exif_data['FocalLength']\n",
    "#Get focal length in decimal form\n",
    "focal_length = focal_length_exif[0]/focal_length_exif[1]\n",
    "np.save(\"camera_params/FocalLength\", focal_length)"
   ]
  },
  {
   "cell_type": "code",
   "execution_count": 25,
   "metadata": {
    "collapsed": true
   },
   "outputs": [],
   "source": [
    "#=========================================================\n",
    "# Stereo 3D reconstruction \n",
    "#=========================================================\n",
    "#Load camera parameters\n",
    "ret = np.load('./camera_params/ret.npy')\n",
    "K = np.load('./camera_params/K.npy')\n",
    "dist = np.load('./camera_params/dist.npy')\n",
    "#Specify image paths\n",
    "img_path1 = 'cup/11.jpg'\n",
    "img_path2 = 'cup/12.jpg'\n",
    "im3 = 'cup/21.jpg'\n",
    "im4 = 'cup/22.jpg'\n",
    "im5 = 'cup/31.jpg'\n",
    "im6 = 'cup/32.jpg'\n",
    "#Load pictures\n",
    "img_1 = cv2.imread(img_path1)\n",
    "img_2 = cv2.imread(img_path2)\n",
    "img_3 = cv2.imread(im3)\n",
    "img_4 = cv2.imread(im4)\n",
    "img_5 = cv2.imread(im5)\n",
    "img_6 = cv2.imread(im6)\n",
    "img_7 = cv2.imread('cup/41.jpg')\n",
    "img_8 = cv2.imread('cup/42.jpg')\n",
    "img_9 = cv2.imread('cup/51.jpg')\n",
    "img_10 = cv2.imread('cup/52.jpg')\n",
    "img_11 = cv2.imread('cup/61.jpg')\n",
    "img_12 = cv2.imread('cup/62.jpg')\n",
    "#Get height and width. Note: It assumes that both pictures are the same size. They HAVE to be same size \n",
    "h,w = img_2.shape[:2]"
   ]
  },
  {
   "cell_type": "code",
   "execution_count": 26,
   "metadata": {
    "collapsed": true
   },
   "outputs": [],
   "source": [
    "def create_output(vertices, colors, filename):\n",
    "\tcolors = colors.reshape(-1,3)\n",
    "\tvertices = np.hstack([vertices.reshape(-1,3),colors])\n",
    "\n",
    "\tply_header = '''ply\n",
    "\t\tformat ascii 1.0\n",
    "\t\telement vertex %(vert_num)d\n",
    "\t\tproperty float x\n",
    "\t\tproperty float y\n",
    "\t\tproperty float z\n",
    "\t\tproperty uchar red\n",
    "\t\tproperty uchar green\n",
    "\t\tproperty uchar blue\n",
    "\t\tend_header\n",
    "\t\t'''\n",
    "\twith open(filename, 'w') as f:\n",
    "\t\tf.write(ply_header %dict(vert_num=len(vertices)))\n",
    "\t\tnp.savetxt(f,vertices,'%f %f %f %d %d %d')"
   ]
  },
  {
   "cell_type": "code",
   "execution_count": 27,
   "metadata": {
    "collapsed": true
   },
   "outputs": [],
   "source": [
    "def downsample_image(image, reduce_factor):\n",
    "\tfor i in range(0,reduce_factor):\n",
    "\t\t#Check if image is color or grayscale\n",
    "\t\tif len(image.shape) > 2:\n",
    "\t\t\trow,col = image.shape[:2]\n",
    "\t\telse:\n",
    "\t\t\trow,col = image.shape\n",
    "\n",
    "\t\timage = cv2.pyrDown(image, dstsize= (col//2, row // 2))\n",
    "\treturn image"
   ]
  },
  {
   "cell_type": "code",
   "execution_count": 28,
   "metadata": {},
   "outputs": [],
   "source": [
    "#Get optimal camera matrix for better undistortion \n",
    "new_camera_matrix, roi = cv2.getOptimalNewCameraMatrix(K,dist,(w,h),1,(w,h))\n",
    "#Undistort images\n",
    "img_1_undistorted = cv2.undistort(img_1, K, dist, None, new_camera_matrix)\n",
    "img_2_undistorted = cv2.undistort(img_2, K, dist, None, new_camera_matrix)\n",
    "img_3_undistorted = cv2.undistort(img_3, K, dist, None, new_camera_matrix)\n",
    "img_4_undistorted = cv2.undistort(img_4, K, dist, None, new_camera_matrix)\n",
    "img_5_undistorted = cv2.undistort(img_5, K, dist, None, new_camera_matrix)\n",
    "img_6_undistorted = cv2.undistort(img_6, K, dist, None, new_camera_matrix)\n",
    "img_7_undistorted = cv2.undistort(img_7, K, dist, None, new_camera_matrix)\n",
    "img_8_undistorted = cv2.undistort(img_8, K, dist, None, new_camera_matrix)\n",
    "img_9_undistorted = cv2.undistort(img_9, K, dist, None, new_camera_matrix)\n",
    "img_10_undistorted = cv2.undistort(img_10, K, dist, None, new_camera_matrix)\n",
    "img_11_undistorted = cv2.undistort(img_11, K, dist, None, new_camera_matrix)\n",
    "img_12_undistorted = cv2.undistort(img_12, K, dist, None, new_camera_matrix)\n",
    "#Downsample each image 3 times (because they're too big)\n",
    "img_1_downsampled = downsample_image(img_1_undistorted,3)\n",
    "img_2_downsampled = downsample_image(img_2_undistorted,3)\n",
    "img_3_downsampled = downsample_image(img_3_undistorted,3)\n",
    "img_4_downsampled = downsample_image(img_4_undistorted,3)\n",
    "img_5_downsampled = downsample_image(img_5_undistorted,3)\n",
    "img_6_downsampled = downsample_image(img_6_undistorted,3)\n",
    "img_7_downsampled = downsample_image(img_7_undistorted,3)\n",
    "img_8_downsampled = downsample_image(img_8_undistorted,3)\n",
    "img_9_downsampled = downsample_image(img_9_undistorted,3)\n",
    "img_10_downsampled = downsample_image(img_10_undistorted,3)\n",
    "img_11_downsampled = downsample_image(img_11_undistorted,3)\n",
    "img_12_downsampled = downsample_image(img_12_undistorted,3)"
   ]
  },
  {
   "cell_type": "code",
   "execution_count": 29,
   "metadata": {
    "collapsed": true
   },
   "outputs": [],
   "source": [
    "#Set disparity parameters\n",
    "#Note: disparity range is tuned according to specific parameters obtained through trial and error. \n",
    "win_size = 5\n",
    "min_disp = -1\n",
    "max_disp = 63 #min_disp * 9\n",
    "num_disp = max_disp - min_disp # Needs to be divisible by 16\n",
    "#Create Block matching object. \n",
    "stereo = cv2.StereoSGBM_create(minDisparity= min_disp,\n",
    " numDisparities = num_disp,\n",
    " blockSize = 5,\n",
    " uniquenessRatio = 5,\n",
    " speckleWindowSize = 5,\n",
    " speckleRange = 5,\n",
    " disp12MaxDiff = 1,\n",
    " P1 = 8*3*win_size**2,#8*3*win_size**2,\n",
    " P2 =32*3*win_size**2) #32*3*win_size**2)"
   ]
  },
  {
   "cell_type": "code",
   "execution_count": 30,
   "metadata": {
    "scrolled": false
   },
   "outputs": [
    {
     "name": "stdout",
     "output_type": "stream",
     "text": [
      "\n",
      "Computing the disparity  map...\n"
     ]
    },
    {
     "data": {
      "image/png": "[encoded data removed]",
      "text/plain": [
       "<Figure size 432x288 with 1 Axes>"
      ]
     },
     "metadata": {},
     "output_type": "display_data"
    }
   ],
   "source": [
    "#Compute disparity map\n",
    "print (\"\\nComputing the disparity  map...\")\n",
    "disparity_map1 = stereo.compute(img_1_downsampled, img_2_downsampled)\n",
    "disparity_map2 = stereo.compute(img_3_downsampled, img_4_downsampled)\n",
    "disparity_map3 = stereo.compute(img_5_downsampled, img_6_downsampled)\n",
    "disparity_map4 = stereo.compute(img_7_downsampled, img_8_downsampled)\n",
    "disparity_map5 = stereo.compute(img_9_downsampled, img_10_downsampled)\n",
    "disparity_map6 = stereo.compute(img_11_downsampled, img_12_downsampled)\n",
    "#Show disparity map before generating 3D cloud to verify that point cloud will be usable. \n",
    "plt.imshow(disparity_map1,'gray')\n",
    "plt.show()"
   ]
  },
  {
   "cell_type": "code",
   "execution_count": 31,
   "metadata": {},
   "outputs": [
    {
     "data": {
      "image/png": "[encoded data removed]",
      "text/plain": [
       "<Figure size 432x288 with 1 Axes>"
      ]
     },
     "metadata": {},
     "output_type": "display_data"
    }
   ],
   "source": [
    "plt.imshow(disparity_map4,'gray')\n",
    "plt.show()"
   ]
  },
  {
   "cell_type": "code",
   "execution_count": null,
   "metadata": {},
   "outputs": [],
   "source": [
    "plt.imshow(disparity_map5,'gray')\n",
    "plt.show()"
   ]
  },
  {
   "cell_type": "code",
   "execution_count": 32,
   "metadata": {
    "collapsed": true
   },
   "outputs": [],
   "source": [
    "def gen_points(i1, i2, disparity_map):\n",
    "    h,w = i1.shape[:2]\n",
    "    #Load focal length. \n",
    "    focal_length = np.load('./camera_params/FocalLength.npy')\n",
    "    #Perspective transformation matrix\n",
    "    #This transformation matrix is from the openCV documentation, didn't seem to work for me. \n",
    "    Q = np.float32([[1,0,0,-w/2.0],\n",
    "        [0,-1,0,h/2.0],\n",
    "        [0,0,0,-focal_length],\n",
    "        [0,0,1,0]])\n",
    "    #This transformation matrix is derived from Prof. Didier Stricker's power point presentation on computer vision. \n",
    "    #Link : https://ags.cs.uni-kl.de/fileadmin/inf_ags/3dcv-ws14-15/3DCV_lec01_camera.pdf\n",
    "    Q2 = np.float32([[1,0,0,0],\n",
    "        [0,-1,0,0],\n",
    "        [0,0,focal_length*0.05,0], #Focal length multiplication obtained experimentally. \n",
    "        [0,0,0,1]])\n",
    "    #Reproject points into 3D\n",
    "    points_3D = cv2.reprojectImageTo3D(disparity_map, Q2)\n",
    "    colors = cv2.cvtColor(i2, cv2.COLOR_BGR2RGB)\n",
    "    mask_map = disparity_map > disparity_map.min()\n",
    "    output_points = points_3D[mask_map]\n",
    "    output_colors = colors[mask_map]\n",
    "    return output_points, output_colors"
   ]
  },
  {
   "cell_type": "code",
   "execution_count": 33,
   "metadata": {
    "collapsed": true
   },
   "outputs": [],
   "source": [
    "output_points1, output_colors1 = gen_points(img_1_downsampled, img_2_downsampled, disparity_map1)\n",
    "output_points2, output_colors2 = gen_points(img_3_downsampled, img_4_downsampled, disparity_map2)\n",
    "output_points3, output_colors3 = gen_points(img_5_downsampled, img_6_downsampled, disparity_map3)\n",
    "output_points4, output_colors4 = gen_points(img_7_downsampled, img_8_downsampled, disparity_map4)\n",
    "output_points5, output_colors5 = gen_points(img_9_downsampled, img_10_downsampled, disparity_map5)\n",
    "output_points6, output_colors6 = gen_points(img_11_downsampled, img_12_downsampled, disparity_map6)"
   ]
  },
  {
   "cell_type": "code",
   "execution_count": 34,
   "metadata": {
    "scrolled": true
   },
   "outputs": [
    {
     "name": "stdout",
     "output_type": "stream",
     "text": [
      "\n",
      " Creating the output file... \n",
      "\n"
     ]
    }
   ],
   "source": [
    "output_points = np.concatenate((output_points1,output_points2), axis=0)\n",
    "output_points = np.concatenate((output_points,output_points3), axis=0)\n",
    "output_points = np.concatenate((output_points,output_points4), axis=0)\n",
    "output_points = np.concatenate((output_points,output_points5), axis=0)\n",
    "output_points = np.concatenate((output_points,output_points6), axis=0)\n",
    "output_colors = np.concatenate((output_colors1,output_colors2), axis=0)\n",
    "output_colors = np.concatenate((output_colors,output_colors3), axis=0)\n",
    "output_colors = np.concatenate((output_colors,output_colors4), axis=0)\n",
    "output_colors = np.concatenate((output_colors,output_colors5), axis=0)\n",
    "output_colors = np.concatenate((output_colors,output_colors6), axis=0)\n",
    "output_file = 'reconstructed_plot_speaker.ply'\n",
    "#Generate point cloud \n",
    "print (\"\\n Creating the output file... \\n\")\n",
    "create_output(output_points1, output_colors1, output_file)"
   ]
  },
  {
   "cell_type": "code",
   "execution_count": null,
   "metadata": {
    "collapsed": true
   },
   "outputs": [],
   "source": []
  }
 ],
 "metadata": {
  "kernelspec": {
   "display_name": "Python 3",
   "language": "python",
   "name": "python3"
  },
  "language_info": {
   "codemirror_mode": {
    "name": "ipython",
    "version": 3
   },
   "file_extension": ".py",
   "mimetype": "text/x-python",
   "name": "python",
   "nbconvert_exporter": "python",
   "pygments_lexer": "ipython3",
   "version": "3.6.8"
  }
 },
 "nbformat": 4,
 "nbformat_minor": 2
}
